{
 "cells": [
  {
   "cell_type": "code",
   "execution_count": null,
   "metadata": {},
   "outputs": [],
   "source": [
    "import pandas as pd\n",
    "import numpy as np\n",
    "import re\n",
    "import warnings\n",
    "data=pd.read_excel(\"C:/Users/Payroll/Python/Practice Files/Sales/Salesfeedback 2.5 Anwar.xlsx\")\n",
    "data[['Timestamp', 'Shop Name', 'shop location', 'neighborhood name','Store manager name', 'Mobile number', 'Did he purchase any product?','Is it located on the map?']].head(5)\n",
    "data['Caliber_Quantity_Price']=data['Caliber / Quantity / Price']\n",
    "df=data[['Caliber_Quantity_Price']]\n",
    "warnings.filterwarnings(\"ignore\")\n",
    "df.dropna(inplace=True)"
   ]
  },
  {
   "cell_type": "code",
   "execution_count": null,
   "metadata": {
    "scrolled": true
   },
   "outputs": [],
   "source": [
    "def remove_arabic(x):\n",
    "    a='[ء-ي]+'\n",
    "    return re.sub(a, \"\",x)\n",
    "    print('after: '+x)\n",
    "def cleaning(x):\n",
    "    x=x.split('\\n')\n",
    "    return x"
   ]
  },
  {
   "cell_type": "code",
   "execution_count": null,
   "metadata": {},
   "outputs": [],
   "source": [
    "def cleaning5(x):\n",
    "    return x.split(' ')"
   ]
  },
  {
   "cell_type": "code",
   "execution_count": null,
   "metadata": {},
   "outputs": [],
   "source": [
    "def replace10_30(x):\n",
    "    return x.replace('10/30', 'TenThirty')"
   ]
  },
  {
   "cell_type": "code",
   "execution_count": null,
   "metadata": {},
   "outputs": [],
   "source": [
    "#df['Caliber_Quantity_Price']=df['Caliber_Quantity_Price'].apply(remove_arabic)\n",
    "#df['Caliber_Quantity_Price']=df['Caliber_Quantity_Price'].apply(cleaning)\n",
    "#df['Caliber_Quantity_Price']=df['Caliber_Quantity_Price'].apply(replace10_30)\n",
    "#df['Caliber_Quantity_Price']=df['Caliber_Quantity_Price'].apply(cleaning5)"
   ]
  },
  {
   "cell_type": "code",
   "execution_count": null,
   "metadata": {
    "scrolled": true
   },
   "outputs": [],
   "source": [
    "df['Caliber_Quantity_Price']"
   ]
  },
  {
   "cell_type": "code",
   "execution_count": null,
   "metadata": {},
   "outputs": [],
   "source": [
    "a='10/30 1 270'\n",
    "a= a.replace('10/30', 'tenthirty')\n",
    "a= a.replace('20/50', 'twentyfifty')\n",
    "a= a.split(' ')\n",
    "a"
   ]
  },
  {
   "cell_type": "code",
   "execution_count": null,
   "metadata": {},
   "outputs": [],
   "source": [
    "for x in a:\n",
    "    print(x)"
   ]
  },
  {
   "cell_type": "code",
   "execution_count": null,
   "metadata": {},
   "outputs": [],
   "source": [
    "df[['test']]"
   ]
  },
  {
   "cell_type": "code",
   "execution_count": null,
   "metadata": {},
   "outputs": [],
   "source": [
    "def cleaning6(x):\n",
    "    x= x.replace('\\n', '@')\n",
    "    return x"
   ]
  },
  {
   "cell_type": "code",
   "execution_count": null,
   "metadata": {},
   "outputs": [],
   "source": []
  },
  {
   "cell_type": "code",
   "execution_count": null,
   "metadata": {},
   "outputs": [],
   "source": [
    "def cleaning1(x):\n",
    "    return x.replace('ك','')"
   ]
  },
  {
   "cell_type": "code",
   "execution_count": null,
   "metadata": {},
   "outputs": [],
   "source": [
    "def cleaning2(x):\n",
    "    return x.replace('ريال',' ')"
   ]
  },
  {
   "cell_type": "code",
   "execution_count": null,
   "metadata": {},
   "outputs": [],
   "source": [
    "def cleaning3(x):\n",
    "    return x.replace('10/30', 'TenThirty')"
   ]
  },
  {
   "cell_type": "code",
   "execution_count": null,
   "metadata": {},
   "outputs": [],
   "source": [
    "def cleaning4(x):\n",
    "    return x.replace('20/50', 'TwentyFifty')"
   ]
  },
  {
   "cell_type": "code",
   "execution_count": null,
   "metadata": {},
   "outputs": [],
   "source": [
    "df['test']= df['test'].apply(cleaning1)\n",
    "df['test']= df['test'].apply(cleaning2)\n"
   ]
  },
  {
   "cell_type": "code",
   "execution_count": null,
   "metadata": {},
   "outputs": [],
   "source": [
    "df['test']= df['test'].apply(cleaning3)\n",
    "df['test']= df['test'].apply(cleaning4)"
   ]
  },
  {
   "cell_type": "code",
   "execution_count": null,
   "metadata": {},
   "outputs": [],
   "source": [
    "df['test']= df['test'].apply(cleaning2)"
   ]
  },
  {
   "cell_type": "code",
   "execution_count": null,
   "metadata": {},
   "outputs": [],
   "source": [
    "def cleaning5(x):\n",
    "    return x.split(' ')"
   ]
  },
  {
   "cell_type": "code",
   "execution_count": null,
   "metadata": {},
   "outputs": [],
   "source": [
    "df['test']= df['test'].apply(cleaning5)"
   ]
  },
  {
   "cell_type": "code",
   "execution_count": null,
   "metadata": {},
   "outputs": [],
   "source": [
    "df[['test']]"
   ]
  },
  {
   "cell_type": "code",
   "execution_count": null,
   "metadata": {},
   "outputs": [],
   "source": [
    "df[['street', 'city', 'state']] = df['address'].str.split(',\\s+', expand=True)\n",
    "df[['street', 'city', 'state']] = df['address'].str.split(',\\s+', expand=True)"
   ]
  },
  {
   "cell_type": "code",
   "execution_count": null,
   "metadata": {},
   "outputs": [],
   "source": [
    "df[[\"City\", \"State\", \"Country\"]] = df[\"target\"].str.split(pat=\",\", expand=True)"
   ]
  },
  {
   "cell_type": "code",
   "execution_count": null,
   "metadata": {},
   "outputs": [],
   "source": [
    "df[['City, State, Country']].apply(lambda x: pd.Series(str(x).split(',')))"
   ]
  },
  {
   "cell_type": "code",
   "execution_count": null,
   "metadata": {},
   "outputs": [],
   "source": [
    "df[[\"City\", \"State\", \"Country\"]] = df[\"target\"].str.split(pat=\",\", expand=True)"
   ]
  }
 ],
 "metadata": {
  "kernelspec": {
   "display_name": "Python 3",
   "language": "python",
   "name": "python3"
  },
  "language_info": {
   "codemirror_mode": {
    "name": "ipython",
    "version": 3
   },
   "file_extension": ".py",
   "mimetype": "text/x-python",
   "name": "python",
   "nbconvert_exporter": "python",
   "pygments_lexer": "ipython3",
   "version": "3.8.8"
  }
 },
 "nbformat": 4,
 "nbformat_minor": 4
}
